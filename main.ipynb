{
 "cells": [
  {
   "cell_type": "code",
   "execution_count": 1,
   "metadata": {},
   "outputs": [],
   "source": [
    "%load_ext autoreload\n",
    "%autoreload 2"
   ]
  },
  {
   "cell_type": "code",
   "execution_count": 2,
   "metadata": {},
   "outputs": [],
   "source": [
    "from gurobipy import Model, GRB\n",
    "from Services.read_data import Dados"
   ]
  },
  {
   "cell_type": "code",
   "execution_count": 3,
   "metadata": {},
   "outputs": [],
   "source": [
    "# Inicialização da classe Dados\n",
    "file_name = 'Dados\\Modelo.xlsx'\n",
    "dados = Dados(file_name)"
   ]
  },
  {
   "cell_type": "code",
   "execution_count": 4,
   "metadata": {},
   "outputs": [],
   "source": [
    "# Definir conjuntos (como exemplo, defina os conjuntos de portos, tipos de contêineres, etc.)\n",
    "P = dados.P  # Exemplo de 10 portos\n",
    "K = dados.K   # Exemplo de 3 tipos de contêineres\n",
    "C = dados.C   # Exemplo de 5 tipos de carga\n",
    "T = dados.T  # Exemplo de 12 períodos de tempo"
   ]
  },
  {
   "cell_type": "code",
   "execution_count": 5,
   "metadata": {},
   "outputs": [
    {
     "name": "stdout",
     "output_type": "stream",
     "text": [
      "Set parameter Username\n",
      "Academic license - for non-commercial use only - expires 2024-11-20\n"
     ]
    }
   ],
   "source": [
    "# Criar o modelo\n",
    "model = Model(\"Modelo de Otimização de Cabotagem\")"
   ]
  },
  {
   "cell_type": "code",
   "execution_count": 6,
   "metadata": {},
   "outputs": [],
   "source": [
    "CT = model.addVar(vtype=GRB.CONTINUOUS, name=\"CT\", lb=0, ub=1)  # Margem de contribuição\n",
    "FF = model.addVars(P, P, K, C, T, vtype=GRB.CONTINUOUS, name=\"FF\")  # Contêineres cheios embarcados\n",
    "FE = model.addVars(P, P, K, T, vtype=GRB.CONTINUOUS, name=\"FE\")    # Contêineres vazios embarcados\n",
    "E = model.addVars(P, K, T, vtype=GRB.CONTINUOUS, name=\"E\")         # Estoque de contêineres vazios\n",
    "R = model.addVars(P, T, vtype=GRB.CONTINUOUS, name=\"R\")            # Quantidade de TEU no navio\n",
    "RSF = model.addVars(P, K, T, vtype=GRB.CONTINUOUS, name=\"RSF\")     # Contêineres vazios retornando\n",
    "RSE = model.addVars(P, K, T, vtype=GRB.CONTINUOUS, name=\"RSE\")     # Contêineres vazios disponíveis\n",
    "RLF = model.addVars(P, K, T, vtype=GRB.CONTINUOUS, name=\"RLF\")     # Contêineres vazios liberados para exportação\n",
    "RLE = model.addVars(P, K, T, vtype=GRB.CONTINUOUS, name=\"RLE\")     # Contêineres vazios liberados para reposicionamento"
   ]
  }
 ],
 "metadata": {
  "kernelspec": {
   "display_name": "Python 3",
   "language": "python",
   "name": "python3"
  },
  "language_info": {
   "codemirror_mode": {
    "name": "ipython",
    "version": 3
   },
   "file_extension": ".py",
   "mimetype": "text/x-python",
   "name": "python",
   "nbconvert_exporter": "python",
   "pygments_lexer": "ipython3",
   "version": "3.11.6"
  }
 },
 "nbformat": 4,
 "nbformat_minor": 2
}
