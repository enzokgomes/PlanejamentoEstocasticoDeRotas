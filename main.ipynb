{
 "cells": [
  {
   "cell_type": "code",
   "execution_count": 1,
   "metadata": {},
   "outputs": [],
   "source": [
    "%load_ext autoreload\n",
    "%autoreload 2"
   ]
  },
  {
   "cell_type": "code",
   "execution_count": 2,
   "metadata": {},
   "outputs": [],
   "source": [
    "from gurobipy import Model, GRB, quicksum\n",
    "from Services.read_data import Dados\n",
    "import math\n",
    "import pandas as pd"
   ]
  },
  {
   "cell_type": "code",
   "execution_count": 15,
   "metadata": {},
   "outputs": [],
   "source": [
    "# Inicialização da classe Dados\n",
    "file_name = 'Dados\\Modelo.xlsx'\n",
    "dados = Dados(file_name)"
   ]
  },
  {
   "cell_type": "code",
   "execution_count": 16,
   "metadata": {},
   "outputs": [],
   "source": [
    "# Definir conjuntos (como exemplo, defina os conjuntos de portos, tipos de contêineres, etc.)\n",
    "P = dados.P  # Exemplo de 9 portos\n",
    "K = dados.K   # Exemplo de 3 tipos de contêineres\n",
    "C = dados.C   # Exemplo de 5 tipos de carga\n",
    "T = dados.T  # Exemplo de 12 períodos de tempo"
   ]
  },
  {
   "cell_type": "markdown",
   "metadata": {},
   "source": [
    "Qual a ordem? Queremos descobrir a ordem?\n",
    "\n",
    "PNG, SSZ, SUA, PEC, MAO, MAO, PEC, SUA, SSZ, PNG\n",
    "\n",
    "Isso são 10 portos, mas faria sentido desconsiderar um MAO do meio. Ficamos com rota de 9 portos?"
   ]
  },
  {
   "cell_type": "markdown",
   "metadata": {},
   "source": [
    "ID Portos:\n",
    "\n",
    "1: PEC; 2: PNG; 3: MAO; 4: SUA; 5: SSZ "
   ]
  },
  {
   "cell_type": "markdown",
   "metadata": {},
   "source": [
    "MAO aparece duas veze > subida e descida, mas não há fluxo"
   ]
  },
  {
   "cell_type": "code",
   "execution_count": 17,
   "metadata": {},
   "outputs": [],
   "source": [
    "ordem = [2, 5, 4, 1, 3, 3, 1, 4, 5, 2]\n",
    "ordem = pd.DataFrame(ordem, index=[i + 1 for i in range(len(ordem))], columns=['IdPorto'])"
   ]
  },
  {
   "cell_type": "code",
   "execution_count": 18,
   "metadata": {},
   "outputs": [],
   "source": [
    "# Criar o modelo\n",
    "model = Model(\"Modelo de Otimização de Cabotagem\")"
   ]
  },
  {
   "cell_type": "code",
   "execution_count": 8,
   "metadata": {},
   "outputs": [],
   "source": [
    "CT = model.addVar(vtype=GRB.CONTINUOUS, name=\"CT\", lb=0, ub=1)  # Margem de contribuição\n",
    "FF = model.addVars(P, P, K, C, T, vtype=GRB.CONTINUOUS, name=\"FF\")  # Contêineres cheios embarcados\n",
    "FE = model.addVars(P, P, K, T, vtype=GRB.CONTINUOUS, name=\"FE\")    # Contêineres vazios embarcados\n",
    "E = model.addVars(P, K, T, vtype=GRB.CONTINUOUS, name=\"E\")         # Estoque de contêineres vazios\n",
    "R = model.addVars(P, T, vtype=GRB.CONTINUOUS, name=\"R\")            # Quantidade de TEU no navio\n",
    "RSF = model.addVars(P, K, T, vtype=GRB.CONTINUOUS, name=\"RSF\")     # Contêineres vazios retornando\n",
    "RSE = model.addVars(P, K, T, vtype=GRB.CONTINUOUS, name=\"RSE\")     # Contêineres vazios disponíveis\n",
    "RLF = model.addVars(P, K, T, vtype=GRB.CONTINUOUS, name=\"RLF\")     # Contêineres vazios liberados para exportação\n",
    "RLE = model.addVars(P, K, T, vtype=GRB.CONTINUOUS, name=\"RLE\")     # Contêineres vazios liberados para reposicionamento"
   ]
  },
  {
   "cell_type": "markdown",
   "metadata": {},
   "source": [
    "RESTRIÇÕES"
   ]
  },
  {
   "attachments": {
    "image-2.png": {
     "image/png": "[encoded data removed]"
    },
    "image.png": {
     "image/png": "[encoded data removed]"
    }
   },
   "cell_type": "markdown",
   "metadata": {},
   "source": [
    "![image.png](attachment:image.png)\n",
    "\n",
    "![image-2.png](attachment:image-2.png)"
   ]
  },
  {
   "cell_type": "markdown",
   "metadata": {},
   "source": [
    "SF, SE, PI e PX são por ID de porto... Não por posição do porto na rota..."
   ]
  },
  {
   "cell_type": "code",
   "execution_count": 9,
   "metadata": {},
   "outputs": [
    {
     "data": {
      "text/plain": [
       "range(1, 10)"
      ]
     },
     "execution_count": 9,
     "metadata": {},
     "output_type": "execute_result"
    }
   ],
   "source": [
    "dados.P"
   ]
  },
  {
   "cell_type": "code",
   "execution_count": 151,
   "metadata": {},
   "outputs": [
    {
     "name": "stdout",
     "output_type": "stream",
     "text": [
      "Restrições de participação máxima e mínima do armador no tipo de carga: 7776 cada\n"
     ]
    }
   ],
   "source": [
    "# Restrições de participação máxima e mínima do armador no tipo de carga\n",
    "count_constr = 0\n",
    "for i in dados.P:\n",
    "    for j in dados.P:\n",
    "        for k in dados.K:\n",
    "            for c in dados.C:\n",
    "                for t in dados.T:\n",
    "                    # df_filtered = dados.DF[(dados.DF['I'] == i) & (dados.DF['J'] == j) & (dados.DF['K'] == k) & (dados.DF['C'] == c) & (dados.DF['T'] == t)]\n",
    "                    df_filtered = dados.DF[ordem.loc[i].values[0], ordem.loc[j].values[0], k, c, t]\n",
    "                    px_filtered = dados.PX[(dados.PX['I'] == ordem.loc[i].values[0]) & (dados.PX['C'] == c) & (dados.PX['T'] == t)]\n",
    "                    pi_filtered = dados.PI[(dados.PI['I'] == ordem.loc[i].values[0]) & (dados.PI['C'] == c) & (dados.PI['T'] == t)]\n",
    "                    if True:\n",
    "                        count_constr += 1\n",
    "                        df_value = df_filtered\n",
    "                        px_value = px_filtered['PX'].values[0]\n",
    "                        pi_value = pi_filtered['PX'].values[0]\n",
    "                        model.addConstr(\n",
    "                            FF[i, j, k, c, t] <= math.floor(df_value * px_value),\n",
    "                            name=f\"participacao_maxima_armador_{i}_{j}_{k}_{c}_{t}\"\n",
    "                        )\n",
    "                        model.addConstr(\n",
    "                            FF[i, j, k, c, t] >= math.floor(df_value * pi_value),\n",
    "                            name=f\"participacao_minima_armador_{i}_{j}_{k}_{c}_{t}\"\n",
    "                        )\n",
    "\n",
    "print(f\"Restrições de participação máxima e mínima do armador no tipo de carga: {count_constr} cada\")"
   ]
  },
  {
   "cell_type": "markdown",
   "metadata": {},
   "source": [
    "Alguns dados consideram os indices I, J como os IDs dos portos (de 1 a 5)\n",
    "\n",
    "No caso das restrições, como FF, estamos considerando como índice de posição na rota (1 a 9)\n",
    "\n",
    "Isso é o correto? (Acho que sim) Ou nas restrições, também devem ter índices de portos de 1 a 5?\n",
    "\n",
    "Mesma dúvida para RSF, que considera SF(que utiliza índices de 1 a 5) e RSE"
   ]
  },
  {
   "cell_type": "markdown",
   "metadata": {},
   "source": [
    "DF considerado zero para índices sem dados, todas as restrições de FF adicionadas (incluindo as que resultam em valor zero, dado DF = 0)"
   ]
  },
  {
   "cell_type": "code",
   "execution_count": 10,
   "metadata": {},
   "outputs": [
    {
     "data": {
      "text/plain": [
       "7776"
      ]
     },
     "execution_count": 10,
     "metadata": {},
     "output_type": "execute_result"
    }
   ],
   "source": [
    "9*9*4*2*12"
   ]
  },
  {
   "attachments": {
    "image.png": {
     "image/png": "[encoded data removed]"
    }
   },
   "cell_type": "markdown",
   "metadata": {},
   "source": [
    "![image.png](attachment:image.png)"
   ]
  },
  {
   "cell_type": "code",
   "execution_count": 11,
   "metadata": {},
   "outputs": [
    {
     "name": "stdout",
     "output_type": "stream",
     "text": [
      "Restrições de balanço de contêineres vazios nos portos: 432\n"
     ]
    }
   ],
   "source": [
    "# Restrição de balanço de contêineres vazios nos portos\n",
    "count_constr = 0\n",
    "for j in dados.P:\n",
    "    for k in dados.K:\n",
    "        for t in dados.T:\n",
    "            count_constr += 1\n",
    "            model.addConstr(\n",
    "                        E[j, k, t] == E[j, k, t if t == 1 else t - 1] + RSE[j, k, t] + RSF[j, k, t] - RLE[j, k, t] - RLF[j, k, t],\n",
    "                        name=f\"balanco_conteineres_vazios_{j}_{k}_{t}\"\n",
    "                    )\n",
    "print(f\"Restrições de balanço de contêineres vazios nos portos: {count_constr}\")\n"
   ]
  },
  {
   "attachments": {
    "image.png": {
     "image/png": "[encoded data removed]"
    }
   },
   "cell_type": "markdown",
   "metadata": {},
   "source": [
    "![image.png](attachment:image.png)"
   ]
  },
  {
   "cell_type": "markdown",
   "metadata": {},
   "source": [
    "Problema: Dados.SF só tem dados para 5 portos, enquanto os outros dados chegam aos 10 portos.\n",
    "\n",
    "Solução? Assumir que os dados para os outros portos são iguais."
   ]
  },
  {
   "cell_type": "code",
   "execution_count": 14,
   "metadata": {},
   "outputs": [
    {
     "name": "stdout",
     "output_type": "stream",
     "text": [
      "Restrições de quantidade máxima de contêineres armazenada em cada porto: 432\n"
     ]
    }
   ],
   "source": [
    "# Restrição de quantidade de contêineres vazios devolvida de importação\n",
    "count_constr = 0\n",
    "for j in dados.P:\n",
    "    for k in dados.K:\n",
    "        for t in dados.T:\n",
    "            try:\n",
    "                model.addConstr(\n",
    "                    RSF[j, k, t] <= quicksum([dados.TR[t, delta, t_] * FF[i, j, k, c, t_] * dados.SF[(dados.SF['I'] == ordem.loc[j].values[0]) & (dados.SF['K'] == k) & (dados.SF['DT'] == delta)]['SF'].values[0] for i in dados.P for c in dados.C for delta in dados.DT for t_ in dados.T]),\n",
    "                    name=f\"quantidade_conteineres_vazios_devolvida_{j}_{k}_{t}\"\n",
    "                )\n",
    "                count_constr += 1\n",
    "            except:\n",
    "                print(j, k, t)\n",
    "print(f\"Restrições de quantidade máxima de contêineres armazenada em cada porto: {count_constr}\")"
   ]
  },
  {
   "cell_type": "markdown",
   "metadata": {},
   "source": [
    "Sf e Se considera apenas porto de chegada (índice I do Excel representa J)"
   ]
  },
  {
   "cell_type": "markdown",
   "metadata": {},
   "source": [
    "Parei aqui"
   ]
  },
  {
   "cell_type": "code",
   "execution_count": 68,
   "metadata": {},
   "outputs": [
    {
     "name": "stdout",
     "output_type": "stream",
     "text": [
      "Restrições de quantidade máxima de contêineres armazenada em cada porto: 60\n"
     ]
    }
   ],
   "source": [
    "# Restrição de quantidade máxima de contêineres armazenada em cada porto\n",
    "count_constr = 0\n",
    "for j in dados.P:\n",
    "    for t in dados.T:\n",
    "        ne_filtered = dados.NE[dados.NE['I'] == j]\n",
    "        if not ne_filtered.empty:\n",
    "            count_constr += 1\n",
    "            ne_value = ne_filtered['NE'].values[0]\n",
    "            model.addConstr(\n",
    "                quicksum(E[j, k, t] for k in dados.K) <= ne_value,\n",
    "                name=f\"capacidade_maxima_armazenamento_{j}_{t}\"\n",
    "            )\n",
    "print(f\"Restrições de quantidade máxima de contêineres armazenada em cada porto: {count_constr}\")"
   ]
  },
  {
   "cell_type": "code",
   "execution_count": 69,
   "metadata": {},
   "outputs": [
    {
     "name": "stdout",
     "output_type": "stream",
     "text": [
      "Restrições de capacidade de fluxo: 120\n"
     ]
    }
   ],
   "source": [
    "# Restrição de capacidade de fluxo\n",
    "count_constr = 0\n",
    "for t in dados.T:\n",
    "    for p in dados.P:\n",
    "        count_constr += 1\n",
    "        model.addConstr(\n",
    "            quicksum(FF[i, j, k, c, t] + FE[i, j, k, t] for i in dados.P for j in dados.P for k in dados.K for c in dados.C) <= dados.N,\n",
    "            name=f\"capacidade_maxima_fluxo_{p}_{t}\"\n",
    "        )\n",
    "print(f\"Restrições de capacidade de fluxo: {count_constr}\")"
   ]
  },
  {
   "cell_type": "code",
   "execution_count": 70,
   "metadata": {},
   "outputs": [
    {
     "name": "stdout",
     "output_type": "stream",
     "text": [
      "Restrições de calado máximo nos portos: 120\n"
     ]
    }
   ],
   "source": [
    "# Restrição de calado máximo nos portos\n",
    "count_constr = 0\n",
    "for p in dados.P:\n",
    "    for t in dados.T:\n",
    "        h_filtered = dados.H[dados.H['P'] == p]\n",
    "        if not h_filtered.empty:\n",
    "            count_constr += 1\n",
    "            h_value = h_filtered['H'].values[0]\n",
    "            model.addConstr(\n",
    "                quicksum(h_value * FE[i, p, k, t] for i in dados.P for k in dados.K) +\n",
    "                quicksum(h_value * FF[i, j, k, c, t] for i in dados.P for j in dados.P for k in dados.K for c in dados.C) <=\n",
    "                h_value,\n",
    "                name=f\"calado_maximo_porto_{p}_{t}\"\n",
    "            )\n",
    "print(f\"Restrições de calado máximo nos portos: {count_constr}\")"
   ]
  },
  {
   "cell_type": "code",
   "execution_count": 71,
   "metadata": {},
   "outputs": [
    {
     "name": "stdout",
     "output_type": "stream",
     "text": [
      "Restrições de quantidade de contêineres frigoríficos cheios nos navios: 120\n"
     ]
    }
   ],
   "source": [
    "# Restrição de quantidade de contêineres frigoríficos cheios nos navios\n",
    "count_constr = 0\n",
    "for p in dados.P:\n",
    "    for t in dados.T:\n",
    "        count_constr += 1\n",
    "        model.addConstr(\n",
    "            quicksum(FF[i, j, k, c, t] for i in dados.P for j in dados.P for k in dados.K for c in dados.C if dados.G.iloc[k-1, 1] == 1) <= dados.NP,\n",
    "            name=f\"capacidade_maxima_refrigerados_{p}_{t}\"\n",
    "        )\n",
    "print(f\"Restrições de quantidade de contêineres frigoríficos cheios nos navios: {count_constr}\")\n"
   ]
  },
  {
   "cell_type": "code",
   "execution_count": 73,
   "metadata": {},
   "outputs": [
    {
     "name": "stdout",
     "output_type": "stream",
     "text": [
      "Restrições de quantidade de contêineres de 40 pés nos navios: 120\n"
     ]
    }
   ],
   "source": [
    "# Restrição de quantidade de contêineres de 40 pés nos navios\n",
    "count_constr = 0\n",
    "for p in dados.P:\n",
    "    for t in dados.T:\n",
    "        if not dados.M.empty:\n",
    "            count_constr += 1\n",
    "            model.addConstr(\n",
    "                quicksum(dados.M.iloc[p-1, k-1] * FF[i, j, k, c, t] for i in dados.P for j in dados.P for k in dados.K for c in dados.C) +\n",
    "                quicksum(dados.M.iloc[p-1, k-1] * FE[i, j, k, t] for i in dados.P for j in dados.P for k in dados.K) <= \n",
    "                (dados.NV * dados.NF) / (len(dados.T) * len(dados.C)),\n",
    "                name=f\"quantidade_maxima_conteineres_40_pes_{p}_{t}\"\n",
    "            )\n",
    "print(f\"Restrições de quantidade de contêineres de 40 pés nos navios: {count_constr}\")\n"
   ]
  }
 ],
 "metadata": {
  "kernelspec": {
   "display_name": "Python 3",
   "language": "python",
   "name": "python3"
  },
  "language_info": {
   "codemirror_mode": {
    "name": "ipython",
    "version": 3
   },
   "file_extension": ".py",
   "mimetype": "text/x-python",
   "name": "python",
   "nbconvert_exporter": "python",
   "pygments_lexer": "ipython3",
   "version": "3.11.9"
  }
 },
 "nbformat": 4,
 "nbformat_minor": 2
}
